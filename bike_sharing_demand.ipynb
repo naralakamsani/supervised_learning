{
  "nbformat": 4,
  "nbformat_minor": 0,
  "metadata": {
    "colab": {
      "provenance": [],
      "authorship_tag": "ABX9TyPQ/zq5hbC848H0RTrgdvaU",
      "include_colab_link": true
    },
    "kernelspec": {
      "name": "python3",
      "display_name": "Python 3"
    },
    "language_info": {
      "name": "python"
    }
  },
  "cells": [
    {
      "cell_type": "markdown",
      "metadata": {
        "id": "view-in-github",
        "colab_type": "text"
      },
      "source": [
        "<a href=\"https://colab.research.google.com/github/naralakamsani/supervised_learning/blob/main/bike_sharing_demand.ipynb\" target=\"_parent\"><img src=\"https://colab.research.google.com/assets/colab-badge.svg\" alt=\"Open In Colab\"/></a>"
      ]
    },
    {
      "cell_type": "markdown",
      "source": [
        "#Imports"
      ],
      "metadata": {
        "id": "Jh73yUXWFC5P"
      }
    },
    {
      "cell_type": "code",
      "source": [],
      "metadata": {
        "id": "pSZ8o0_ZAmXJ"
      },
      "execution_count": null,
      "outputs": []
    },
    {
      "cell_type": "markdown",
      "source": [
        "#Data\n",
        "\n",
        "[Bike Sharing Demand](https://www.kaggle.com/competitions/bike-sharing-demand/overview)\n"
      ],
      "metadata": {
        "id": "qwvdHxNjFKqP"
      }
    },
    {
      "cell_type": "code",
      "source": [],
      "metadata": {
        "id": "S8RxgES4FINv"
      },
      "execution_count": null,
      "outputs": []
    },
    {
      "cell_type": "markdown",
      "source": [
        "# Decision Tree"
      ],
      "metadata": {
        "id": "pbzE_BKHGOcx"
      }
    },
    {
      "cell_type": "code",
      "source": [],
      "metadata": {
        "id": "9FPYDsfJHIzx"
      },
      "execution_count": null,
      "outputs": []
    },
    {
      "cell_type": "markdown",
      "source": [
        "#Neural networks\n"
      ],
      "metadata": {
        "id": "WXmBogo1HJJD"
      }
    },
    {
      "cell_type": "code",
      "source": [],
      "metadata": {
        "id": "05kBjZTXHNhs"
      },
      "execution_count": null,
      "outputs": []
    },
    {
      "cell_type": "markdown",
      "source": [
        "#Boosting\n"
      ],
      "metadata": {
        "id": "e4LOtv2MHKr_"
      }
    },
    {
      "cell_type": "code",
      "source": [],
      "metadata": {
        "id": "B1Tw9B1AHOBW"
      },
      "execution_count": null,
      "outputs": []
    },
    {
      "cell_type": "markdown",
      "source": [
        "#Support Vector Machines"
      ],
      "metadata": {
        "id": "dKQEUGrXHLu4"
      }
    },
    {
      "cell_type": "code",
      "source": [],
      "metadata": {
        "id": "7dVKF0FlHQTT"
      },
      "execution_count": null,
      "outputs": []
    },
    {
      "cell_type": "markdown",
      "source": [
        "#k-nearest neighbors"
      ],
      "metadata": {
        "id": "AnY0MWhWHRCX"
      }
    }
  ]
}